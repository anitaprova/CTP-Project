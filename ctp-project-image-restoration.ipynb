{
 "cells": [
  {
   "cell_type": "code",
   "execution_count": 1,
   "id": "c4213464",
   "metadata": {
    "execution": {
     "iopub.execute_input": "2024-10-20T03:05:25.148656Z",
     "iopub.status.busy": "2024-10-20T03:05:25.148211Z",
     "iopub.status.idle": "2024-10-20T03:05:52.528863Z",
     "shell.execute_reply": "2024-10-20T03:05:52.527941Z"
    },
    "papermill": {
     "duration": 27.389532,
     "end_time": "2024-10-20T03:05:52.531433",
     "exception": false,
     "start_time": "2024-10-20T03:05:25.141901",
     "status": "completed"
    },
    "tags": []
   },
   "outputs": [],
   "source": [
    "# Reducing the dataset to 15,000 images \n",
    "# Taking a random 150 immages from both folders and their corresponding variations \n",
    "import numpy as np\n",
    "import pandas as pd\n",
    "import shutil\n",
    "import os\n",
    "import random\n",
    "from sklearn.model_selection import train_test_split\n",
    "\n",
    "clear_path = '/kaggle/input/art-images-clear-and-distorted/Art_Dataset_Clear/'\n",
    "foreign_images = os.listdir(os.path.join(clear_path, 'Foreign'))\n",
    "indian_images = os.listdir(os.path.join(clear_path, 'Indian'))\n",
    "\n",
    "# Getting a random 150 images  \n",
    "foreign_images_subset = random.sample(foreign_images, 150)\n",
    "indian_images_subset = random.sample(indian_images, 150)\n",
    "\n",
    "# Splitting into training and testing sets (80% training, 20% testing)\n",
    "# Important to note that these just contain the name of the files not the actaul image data \n",
    "foreign_train, foreign_test = train_test_split(foreign_images_subset, test_size=0.2, random_state=45)\n",
    "indian_train, indian_test = train_test_split(indian_images_subset, test_size=0.2, random_state=45)\n",
    "\n",
    "train_images = []\n",
    "test_images = []\n",
    "\n",
    "train_images = foreign_train + indian_train\n",
    "test_images = foreign_test + indian_test\n",
    "\n",
    "# Matching up the image to its distorted versions \n",
    "distorted_path = '/kaggle/input/art-images-clear-and-distorted/Art_Dataset_Distorted/'\n",
    "distorted_images = os.listdir(os.path.join(distorted_path, 'Distorted'))\n",
    "\n",
    "def get_distorted_variations(image_name, distorted_folder):\n",
    "    base_name = os.path.splitext(image_name)[0]\n",
    "    variations = [f for f in os.listdir(os.path.join(distorted_path, 'Distorted')) if f.startswith(base_name)]\n",
    "    return variations"
   ]
  },
  {
   "cell_type": "code",
   "execution_count": 2,
   "id": "c890a47f",
   "metadata": {
    "execution": {
     "iopub.execute_input": "2024-10-20T03:05:52.541551Z",
     "iopub.status.busy": "2024-10-20T03:05:52.541038Z",
     "iopub.status.idle": "2024-10-20T03:12:44.524599Z",
     "shell.execute_reply": "2024-10-20T03:12:44.523520Z"
    },
    "papermill": {
     "duration": 411.991145,
     "end_time": "2024-10-20T03:12:44.527278",
     "exception": false,
     "start_time": "2024-10-20T03:05:52.536133",
     "status": "completed"
    },
    "tags": []
   },
   "outputs": [],
   "source": [
    "# Fetching distorted variations for training and testing\n",
    "distorted_train = []\n",
    "for image in train_images:\n",
    "    distorted_train.extend(get_distorted_variations(image, distorted_path))\n",
    "\n",
    "distorted_test = []\n",
    "for image in test_images:\n",
    "    distorted_test.extend(get_distorted_variations(image, distorted_path))"
   ]
  },
  {
   "cell_type": "code",
   "execution_count": 3,
   "id": "ba959364",
   "metadata": {
    "execution": {
     "iopub.execute_input": "2024-10-20T03:12:44.536985Z",
     "iopub.status.busy": "2024-10-20T03:12:44.536634Z",
     "iopub.status.idle": "2024-10-20T03:12:44.543349Z",
     "shell.execute_reply": "2024-10-20T03:12:44.542533Z"
    },
    "papermill": {
     "duration": 0.013854,
     "end_time": "2024-10-20T03:12:44.545379",
     "exception": false,
     "start_time": "2024-10-20T03:12:44.531525",
     "status": "completed"
    },
    "tags": []
   },
   "outputs": [],
   "source": [
    "# Saving the images\n",
    "output_dir = '/kaggle/working/images_subset'\n",
    "train_dir = os.path.join(output_dir, 'train')\n",
    "test_dir = os.path.join(output_dir, 'test')\n",
    "distorted_train_dir = os.path.join(output_dir, 'distorted_train')\n",
    "distorted_test_dir = os.path.join(output_dir, 'distorted_test')\n",
    "\n",
    "os.makedirs(train_dir, exist_ok=True)\n",
    "os.makedirs(test_dir, exist_ok=True)\n",
    "os.makedirs(distorted_train_dir, exist_ok=True)\n",
    "os.makedirs(distorted_test_dir, exist_ok=True)"
   ]
  },
  {
   "cell_type": "code",
   "execution_count": 4,
   "id": "1276df07",
   "metadata": {
    "execution": {
     "iopub.execute_input": "2024-10-20T03:12:44.554746Z",
     "iopub.status.busy": "2024-10-20T03:12:44.554025Z",
     "iopub.status.idle": "2024-10-20T03:14:21.472203Z",
     "shell.execute_reply": "2024-10-20T03:14:21.471164Z"
    },
    "papermill": {
     "duration": 96.925866,
     "end_time": "2024-10-20T03:14:21.475089",
     "exception": false,
     "start_time": "2024-10-20T03:12:44.549223",
     "status": "completed"
    },
    "tags": []
   },
   "outputs": [],
   "source": [
    "# Copy training images to the train directory\n",
    "for img in train_images:\n",
    "    if \"F\" in img:\n",
    "        shutil.copy(os.path.join(clear_path, 'Foreign', img), train_dir)\n",
    "    else:\n",
    "        shutil.copy(os.path.join(clear_path, 'Indian', img), train_dir)\n",
    "        \n",
    "for img in test_images:\n",
    "    if \"F\" in img:\n",
    "        shutil.copy(os.path.join(clear_path, 'Foreign', img), test_dir)\n",
    "    else:\n",
    "        shutil.copy(os.path.join(clear_path, 'Indian', img), test_dir)\n",
    "        \n",
    "for img in distorted_train:\n",
    "    shutil.copy(os.path.join(distorted_path, 'Distorted', img), distorted_train_dir)\n",
    "\n",
    "for img in distorted_test:\n",
    "    shutil.copy(os.path.join(distorted_path, 'Distorted', img), distorted_test_dir)"
   ]
  },
  {
   "cell_type": "code",
   "execution_count": 5,
   "id": "0963744d",
   "metadata": {
    "execution": {
     "iopub.execute_input": "2024-10-20T03:14:21.485233Z",
     "iopub.status.busy": "2024-10-20T03:14:21.484828Z",
     "iopub.status.idle": "2024-10-20T03:15:42.701297Z",
     "shell.execute_reply": "2024-10-20T03:15:42.700232Z"
    },
    "papermill": {
     "duration": 81.229082,
     "end_time": "2024-10-20T03:15:42.708520",
     "exception": false,
     "start_time": "2024-10-20T03:14:21.479438",
     "status": "completed"
    },
    "tags": []
   },
   "outputs": [
    {
     "data": {
      "text/plain": [
       "'/kaggle/working/images_subset.zip'"
      ]
     },
     "execution_count": 5,
     "metadata": {},
     "output_type": "execute_result"
    }
   ],
   "source": [
    "# Create a zip file\n",
    "shutil.make_archive('/kaggle/working/images_subset', 'zip', '/kaggle/working', 'images_subset')"
   ]
  },
  {
   "cell_type": "code",
   "execution_count": 6,
   "id": "1e45cedd",
   "metadata": {
    "execution": {
     "iopub.execute_input": "2024-10-20T03:15:42.720746Z",
     "iopub.status.busy": "2024-10-20T03:15:42.720327Z",
     "iopub.status.idle": "2024-10-20T03:15:56.251548Z",
     "shell.execute_reply": "2024-10-20T03:15:56.250643Z"
    },
    "papermill": {
     "duration": 13.541068,
     "end_time": "2024-10-20T03:15:56.254179",
     "exception": false,
     "start_time": "2024-10-20T03:15:42.713111",
     "status": "completed"
    },
    "tags": []
   },
   "outputs": [],
   "source": [
    "import os\n",
    "import tensorflow as tf\n",
    "\n",
    "distorted_train_dir = '/kaggle/input/images-15000/images_subset/distorted_train/'\n",
    "clear_train_dir = '/kaggle/input/images-15000/images_subset/train/'\n",
    "distorted_test_dir = '/kaggle/input/images-15000/images_subset/distorted_test/'\n",
    "clear_test_dir = '/kaggle/input/images-15000/images_subset/test/'\n",
    "\n",
    "def preprocess_image(image_path, target_size=(256, 256)):\n",
    "    image = tf.io.read_file(image_path)\n",
    "    image = tf.image.decode_jpeg(image, channels=3)\n",
    "    image = tf.image.resize(image, target_size)\n",
    "    image = image / 255.0  # Normalize\n",
    "    return image\n",
    "\n",
    "# Using np arrays takes up too much RAM\n",
    "# Converting np array to tf.data.Dataset will be more efficent \n",
    "def load_image_dataset(X, y):\n",
    "    distorted_paths = [os.path.join(X, fname) for fname in os.listdir(X)]\n",
    "    \n",
    "    # The number of clear images has to match the distorted ones\n",
    "    clear_paths = []\n",
    "    for fname in os.listdir(y):\n",
    "        clear_paths.extend([os.path.join(y, fname)] * 50)\n",
    "        \n",
    "    dataset = tf.data.Dataset.from_tensor_slices((distorted_paths, clear_paths))\n",
    "    dataset = dataset.map(lambda distorted, clear: (preprocess_image(distorted), preprocess_image(clear)), num_parallel_calls=tf.data.AUTOTUNE)\n",
    "    return dataset"
   ]
  },
  {
   "cell_type": "code",
   "execution_count": 7,
   "id": "74f12343",
   "metadata": {
    "execution": {
     "iopub.execute_input": "2024-10-20T03:15:56.264979Z",
     "iopub.status.busy": "2024-10-20T03:15:56.264351Z",
     "iopub.status.idle": "2024-10-20T03:15:57.785230Z",
     "shell.execute_reply": "2024-10-20T03:15:57.784377Z"
    },
    "papermill": {
     "duration": 1.529017,
     "end_time": "2024-10-20T03:15:57.787741",
     "exception": false,
     "start_time": "2024-10-20T03:15:56.258724",
     "status": "completed"
    },
    "tags": []
   },
   "outputs": [],
   "source": [
    "# Load training and testing datasets\n",
    "train = load_image_dataset(distorted_train_dir, clear_train_dir)\n",
    "test = load_image_dataset(distorted_test_dir, clear_test_dir)\n",
    "train = train.batch(32)\n",
    "test = test.batch(32)"
   ]
  },
  {
   "cell_type": "code",
   "execution_count": 8,
   "id": "5024c524",
   "metadata": {
    "execution": {
     "iopub.execute_input": "2024-10-20T03:15:57.797692Z",
     "iopub.status.busy": "2024-10-20T03:15:57.797351Z",
     "iopub.status.idle": "2024-10-20T03:15:57.874053Z",
     "shell.execute_reply": "2024-10-20T03:15:57.873225Z"
    },
    "papermill": {
     "duration": 0.084395,
     "end_time": "2024-10-20T03:15:57.876490",
     "exception": false,
     "start_time": "2024-10-20T03:15:57.792095",
     "status": "completed"
    },
    "tags": []
   },
   "outputs": [],
   "source": [
    "# Buidling the model\n",
    "from tensorflow.keras.models import Sequential\n",
    "from tensorflow.keras.layers import Conv2D, MaxPooling2D\n",
    "from tensorflow.keras import layers, models\n",
    "\n",
    "def build_cnn_model(input_shape=(512, 512, 3)):\n",
    "    model = Sequential()\n",
    "    # Extracts features from the input images by applying filters \n",
    "    # We do multiple filters to extract more details \n",
    "    model.add(Conv2D(64, (3,3), 1, activation='relu', padding='same', input_shape=input_shape))\n",
    "    model.add(MaxPooling2D()) # reduces the spatial size\n",
    "\n",
    "    model.add(layers.Conv2D(128, (3, 3), 1,activation='relu', padding='same'))\n",
    "    model.add(layers.MaxPooling2D())\n",
    "\n",
    "    model.add(layers.Conv2D(256, (3, 3), 1, activation='relu', padding='same'))\n",
    "    model.add(layers.MaxPooling2D())\n",
    "    \n",
    "    # reconstructs the image back to its original \n",
    "    model.add(layers.Conv2DTranspose(256, (3, 3), 1, activation='relu', padding='same'))\n",
    "    model.add(layers.UpSampling2D((2, 2)))\n",
    "    \n",
    "    model.add(layers.Conv2DTranspose(128, (3, 3), 1, activation='relu', padding='same'))\n",
    "    model.add(layers.UpSampling2D((2, 2)))\n",
    "\n",
    "    model.add(layers.Conv2DTranspose(64, (3, 3), 1, activation='relu', padding='same'))\n",
    "    model.add(layers.UpSampling2D((2, 2)))\n",
    "    \n",
    "    # output layer\n",
    "    # 3 filters because RGB values \n",
    "    model.add(layers.Conv2D(3, (3, 3), activation='sigmoid', padding='same'))\n",
    "\n",
    "    # decoder network should be for denoising\n",
    "    # model.add(layers.Conv2DTranspose(512, (3, 3), activation='relu', padding='same'))\n",
    "    # model.add(layers.UpSampling2D((2, 2)))\n",
    "    \n",
    "    return model"
   ]
  },
  {
   "cell_type": "code",
   "execution_count": 9,
   "id": "e7149157",
   "metadata": {
    "execution": {
     "iopub.execute_input": "2024-10-20T03:15:57.886584Z",
     "iopub.status.busy": "2024-10-20T03:15:57.886233Z",
     "iopub.status.idle": "2024-10-20T03:15:58.129868Z",
     "shell.execute_reply": "2024-10-20T03:15:58.128955Z"
    },
    "papermill": {
     "duration": 0.251504,
     "end_time": "2024-10-20T03:15:58.132350",
     "exception": false,
     "start_time": "2024-10-20T03:15:57.880846",
     "status": "completed"
    },
    "tags": []
   },
   "outputs": [
    {
     "name": "stderr",
     "output_type": "stream",
     "text": [
      "/opt/conda/lib/python3.10/site-packages/keras/src/layers/convolutional/base_conv.py:107: UserWarning: Do not pass an `input_shape`/`input_dim` argument to a layer. When using Sequential models, prefer using an `Input(shape)` object as the first layer in the model instead.\n",
      "  super().__init__(activity_regularizer=activity_regularizer, **kwargs)\n"
     ]
    },
    {
     "data": {
      "text/html": [
       "<pre style=\"white-space:pre;overflow-x:auto;line-height:normal;font-family:Menlo,'DejaVu Sans Mono',consolas,'Courier New',monospace\"><span style=\"font-weight: bold\">Model: \"sequential\"</span>\n",
       "</pre>\n"
      ],
      "text/plain": [
       "\u001b[1mModel: \"sequential\"\u001b[0m\n"
      ]
     },
     "metadata": {},
     "output_type": "display_data"
    },
    {
     "data": {
      "text/html": [
       "<pre style=\"white-space:pre;overflow-x:auto;line-height:normal;font-family:Menlo,'DejaVu Sans Mono',consolas,'Courier New',monospace\">┏━━━━━━━━━━━━━━━━━━━━━━━━━━━━━━━━━┳━━━━━━━━━━━━━━━━━━━━━━━━┳━━━━━━━━━━━━━━━┓\n",
       "┃<span style=\"font-weight: bold\"> Layer (type)                    </span>┃<span style=\"font-weight: bold\"> Output Shape           </span>┃<span style=\"font-weight: bold\">       Param # </span>┃\n",
       "┡━━━━━━━━━━━━━━━━━━━━━━━━━━━━━━━━━╇━━━━━━━━━━━━━━━━━━━━━━━━╇━━━━━━━━━━━━━━━┩\n",
       "│ conv2d (<span style=\"color: #0087ff; text-decoration-color: #0087ff\">Conv2D</span>)                 │ (<span style=\"color: #00d7ff; text-decoration-color: #00d7ff\">None</span>, <span style=\"color: #00af00; text-decoration-color: #00af00\">512</span>, <span style=\"color: #00af00; text-decoration-color: #00af00\">512</span>, <span style=\"color: #00af00; text-decoration-color: #00af00\">64</span>)   │         <span style=\"color: #00af00; text-decoration-color: #00af00\">1,792</span> │\n",
       "├─────────────────────────────────┼────────────────────────┼───────────────┤\n",
       "│ max_pooling2d (<span style=\"color: #0087ff; text-decoration-color: #0087ff\">MaxPooling2D</span>)    │ (<span style=\"color: #00d7ff; text-decoration-color: #00d7ff\">None</span>, <span style=\"color: #00af00; text-decoration-color: #00af00\">256</span>, <span style=\"color: #00af00; text-decoration-color: #00af00\">256</span>, <span style=\"color: #00af00; text-decoration-color: #00af00\">64</span>)   │             <span style=\"color: #00af00; text-decoration-color: #00af00\">0</span> │\n",
       "├─────────────────────────────────┼────────────────────────┼───────────────┤\n",
       "│ conv2d_1 (<span style=\"color: #0087ff; text-decoration-color: #0087ff\">Conv2D</span>)               │ (<span style=\"color: #00d7ff; text-decoration-color: #00d7ff\">None</span>, <span style=\"color: #00af00; text-decoration-color: #00af00\">256</span>, <span style=\"color: #00af00; text-decoration-color: #00af00\">256</span>, <span style=\"color: #00af00; text-decoration-color: #00af00\">128</span>)  │        <span style=\"color: #00af00; text-decoration-color: #00af00\">73,856</span> │\n",
       "├─────────────────────────────────┼────────────────────────┼───────────────┤\n",
       "│ max_pooling2d_1 (<span style=\"color: #0087ff; text-decoration-color: #0087ff\">MaxPooling2D</span>)  │ (<span style=\"color: #00d7ff; text-decoration-color: #00d7ff\">None</span>, <span style=\"color: #00af00; text-decoration-color: #00af00\">128</span>, <span style=\"color: #00af00; text-decoration-color: #00af00\">128</span>, <span style=\"color: #00af00; text-decoration-color: #00af00\">128</span>)  │             <span style=\"color: #00af00; text-decoration-color: #00af00\">0</span> │\n",
       "├─────────────────────────────────┼────────────────────────┼───────────────┤\n",
       "│ conv2d_2 (<span style=\"color: #0087ff; text-decoration-color: #0087ff\">Conv2D</span>)               │ (<span style=\"color: #00d7ff; text-decoration-color: #00d7ff\">None</span>, <span style=\"color: #00af00; text-decoration-color: #00af00\">128</span>, <span style=\"color: #00af00; text-decoration-color: #00af00\">128</span>, <span style=\"color: #00af00; text-decoration-color: #00af00\">256</span>)  │       <span style=\"color: #00af00; text-decoration-color: #00af00\">295,168</span> │\n",
       "├─────────────────────────────────┼────────────────────────┼───────────────┤\n",
       "│ max_pooling2d_2 (<span style=\"color: #0087ff; text-decoration-color: #0087ff\">MaxPooling2D</span>)  │ (<span style=\"color: #00d7ff; text-decoration-color: #00d7ff\">None</span>, <span style=\"color: #00af00; text-decoration-color: #00af00\">64</span>, <span style=\"color: #00af00; text-decoration-color: #00af00\">64</span>, <span style=\"color: #00af00; text-decoration-color: #00af00\">256</span>)    │             <span style=\"color: #00af00; text-decoration-color: #00af00\">0</span> │\n",
       "├─────────────────────────────────┼────────────────────────┼───────────────┤\n",
       "│ conv2d_transpose                │ (<span style=\"color: #00d7ff; text-decoration-color: #00d7ff\">None</span>, <span style=\"color: #00af00; text-decoration-color: #00af00\">64</span>, <span style=\"color: #00af00; text-decoration-color: #00af00\">64</span>, <span style=\"color: #00af00; text-decoration-color: #00af00\">256</span>)    │       <span style=\"color: #00af00; text-decoration-color: #00af00\">590,080</span> │\n",
       "│ (<span style=\"color: #0087ff; text-decoration-color: #0087ff\">Conv2DTranspose</span>)               │                        │               │\n",
       "├─────────────────────────────────┼────────────────────────┼───────────────┤\n",
       "│ up_sampling2d (<span style=\"color: #0087ff; text-decoration-color: #0087ff\">UpSampling2D</span>)    │ (<span style=\"color: #00d7ff; text-decoration-color: #00d7ff\">None</span>, <span style=\"color: #00af00; text-decoration-color: #00af00\">128</span>, <span style=\"color: #00af00; text-decoration-color: #00af00\">128</span>, <span style=\"color: #00af00; text-decoration-color: #00af00\">256</span>)  │             <span style=\"color: #00af00; text-decoration-color: #00af00\">0</span> │\n",
       "├─────────────────────────────────┼────────────────────────┼───────────────┤\n",
       "│ conv2d_transpose_1              │ (<span style=\"color: #00d7ff; text-decoration-color: #00d7ff\">None</span>, <span style=\"color: #00af00; text-decoration-color: #00af00\">128</span>, <span style=\"color: #00af00; text-decoration-color: #00af00\">128</span>, <span style=\"color: #00af00; text-decoration-color: #00af00\">128</span>)  │       <span style=\"color: #00af00; text-decoration-color: #00af00\">295,040</span> │\n",
       "│ (<span style=\"color: #0087ff; text-decoration-color: #0087ff\">Conv2DTranspose</span>)               │                        │               │\n",
       "├─────────────────────────────────┼────────────────────────┼───────────────┤\n",
       "│ up_sampling2d_1 (<span style=\"color: #0087ff; text-decoration-color: #0087ff\">UpSampling2D</span>)  │ (<span style=\"color: #00d7ff; text-decoration-color: #00d7ff\">None</span>, <span style=\"color: #00af00; text-decoration-color: #00af00\">256</span>, <span style=\"color: #00af00; text-decoration-color: #00af00\">256</span>, <span style=\"color: #00af00; text-decoration-color: #00af00\">128</span>)  │             <span style=\"color: #00af00; text-decoration-color: #00af00\">0</span> │\n",
       "├─────────────────────────────────┼────────────────────────┼───────────────┤\n",
       "│ conv2d_transpose_2              │ (<span style=\"color: #00d7ff; text-decoration-color: #00d7ff\">None</span>, <span style=\"color: #00af00; text-decoration-color: #00af00\">256</span>, <span style=\"color: #00af00; text-decoration-color: #00af00\">256</span>, <span style=\"color: #00af00; text-decoration-color: #00af00\">64</span>)   │        <span style=\"color: #00af00; text-decoration-color: #00af00\">73,792</span> │\n",
       "│ (<span style=\"color: #0087ff; text-decoration-color: #0087ff\">Conv2DTranspose</span>)               │                        │               │\n",
       "├─────────────────────────────────┼────────────────────────┼───────────────┤\n",
       "│ up_sampling2d_2 (<span style=\"color: #0087ff; text-decoration-color: #0087ff\">UpSampling2D</span>)  │ (<span style=\"color: #00d7ff; text-decoration-color: #00d7ff\">None</span>, <span style=\"color: #00af00; text-decoration-color: #00af00\">512</span>, <span style=\"color: #00af00; text-decoration-color: #00af00\">512</span>, <span style=\"color: #00af00; text-decoration-color: #00af00\">64</span>)   │             <span style=\"color: #00af00; text-decoration-color: #00af00\">0</span> │\n",
       "├─────────────────────────────────┼────────────────────────┼───────────────┤\n",
       "│ conv2d_3 (<span style=\"color: #0087ff; text-decoration-color: #0087ff\">Conv2D</span>)               │ (<span style=\"color: #00d7ff; text-decoration-color: #00d7ff\">None</span>, <span style=\"color: #00af00; text-decoration-color: #00af00\">512</span>, <span style=\"color: #00af00; text-decoration-color: #00af00\">512</span>, <span style=\"color: #00af00; text-decoration-color: #00af00\">3</span>)    │         <span style=\"color: #00af00; text-decoration-color: #00af00\">1,731</span> │\n",
       "└─────────────────────────────────┴────────────────────────┴───────────────┘\n",
       "</pre>\n"
      ],
      "text/plain": [
       "┏━━━━━━━━━━━━━━━━━━━━━━━━━━━━━━━━━┳━━━━━━━━━━━━━━━━━━━━━━━━┳━━━━━━━━━━━━━━━┓\n",
       "┃\u001b[1m \u001b[0m\u001b[1mLayer (type)                   \u001b[0m\u001b[1m \u001b[0m┃\u001b[1m \u001b[0m\u001b[1mOutput Shape          \u001b[0m\u001b[1m \u001b[0m┃\u001b[1m \u001b[0m\u001b[1m      Param #\u001b[0m\u001b[1m \u001b[0m┃\n",
       "┡━━━━━━━━━━━━━━━━━━━━━━━━━━━━━━━━━╇━━━━━━━━━━━━━━━━━━━━━━━━╇━━━━━━━━━━━━━━━┩\n",
       "│ conv2d (\u001b[38;5;33mConv2D\u001b[0m)                 │ (\u001b[38;5;45mNone\u001b[0m, \u001b[38;5;34m512\u001b[0m, \u001b[38;5;34m512\u001b[0m, \u001b[38;5;34m64\u001b[0m)   │         \u001b[38;5;34m1,792\u001b[0m │\n",
       "├─────────────────────────────────┼────────────────────────┼───────────────┤\n",
       "│ max_pooling2d (\u001b[38;5;33mMaxPooling2D\u001b[0m)    │ (\u001b[38;5;45mNone\u001b[0m, \u001b[38;5;34m256\u001b[0m, \u001b[38;5;34m256\u001b[0m, \u001b[38;5;34m64\u001b[0m)   │             \u001b[38;5;34m0\u001b[0m │\n",
       "├─────────────────────────────────┼────────────────────────┼───────────────┤\n",
       "│ conv2d_1 (\u001b[38;5;33mConv2D\u001b[0m)               │ (\u001b[38;5;45mNone\u001b[0m, \u001b[38;5;34m256\u001b[0m, \u001b[38;5;34m256\u001b[0m, \u001b[38;5;34m128\u001b[0m)  │        \u001b[38;5;34m73,856\u001b[0m │\n",
       "├─────────────────────────────────┼────────────────────────┼───────────────┤\n",
       "│ max_pooling2d_1 (\u001b[38;5;33mMaxPooling2D\u001b[0m)  │ (\u001b[38;5;45mNone\u001b[0m, \u001b[38;5;34m128\u001b[0m, \u001b[38;5;34m128\u001b[0m, \u001b[38;5;34m128\u001b[0m)  │             \u001b[38;5;34m0\u001b[0m │\n",
       "├─────────────────────────────────┼────────────────────────┼───────────────┤\n",
       "│ conv2d_2 (\u001b[38;5;33mConv2D\u001b[0m)               │ (\u001b[38;5;45mNone\u001b[0m, \u001b[38;5;34m128\u001b[0m, \u001b[38;5;34m128\u001b[0m, \u001b[38;5;34m256\u001b[0m)  │       \u001b[38;5;34m295,168\u001b[0m │\n",
       "├─────────────────────────────────┼────────────────────────┼───────────────┤\n",
       "│ max_pooling2d_2 (\u001b[38;5;33mMaxPooling2D\u001b[0m)  │ (\u001b[38;5;45mNone\u001b[0m, \u001b[38;5;34m64\u001b[0m, \u001b[38;5;34m64\u001b[0m, \u001b[38;5;34m256\u001b[0m)    │             \u001b[38;5;34m0\u001b[0m │\n",
       "├─────────────────────────────────┼────────────────────────┼───────────────┤\n",
       "│ conv2d_transpose                │ (\u001b[38;5;45mNone\u001b[0m, \u001b[38;5;34m64\u001b[0m, \u001b[38;5;34m64\u001b[0m, \u001b[38;5;34m256\u001b[0m)    │       \u001b[38;5;34m590,080\u001b[0m │\n",
       "│ (\u001b[38;5;33mConv2DTranspose\u001b[0m)               │                        │               │\n",
       "├─────────────────────────────────┼────────────────────────┼───────────────┤\n",
       "│ up_sampling2d (\u001b[38;5;33mUpSampling2D\u001b[0m)    │ (\u001b[38;5;45mNone\u001b[0m, \u001b[38;5;34m128\u001b[0m, \u001b[38;5;34m128\u001b[0m, \u001b[38;5;34m256\u001b[0m)  │             \u001b[38;5;34m0\u001b[0m │\n",
       "├─────────────────────────────────┼────────────────────────┼───────────────┤\n",
       "│ conv2d_transpose_1              │ (\u001b[38;5;45mNone\u001b[0m, \u001b[38;5;34m128\u001b[0m, \u001b[38;5;34m128\u001b[0m, \u001b[38;5;34m128\u001b[0m)  │       \u001b[38;5;34m295,040\u001b[0m │\n",
       "│ (\u001b[38;5;33mConv2DTranspose\u001b[0m)               │                        │               │\n",
       "├─────────────────────────────────┼────────────────────────┼───────────────┤\n",
       "│ up_sampling2d_1 (\u001b[38;5;33mUpSampling2D\u001b[0m)  │ (\u001b[38;5;45mNone\u001b[0m, \u001b[38;5;34m256\u001b[0m, \u001b[38;5;34m256\u001b[0m, \u001b[38;5;34m128\u001b[0m)  │             \u001b[38;5;34m0\u001b[0m │\n",
       "├─────────────────────────────────┼────────────────────────┼───────────────┤\n",
       "│ conv2d_transpose_2              │ (\u001b[38;5;45mNone\u001b[0m, \u001b[38;5;34m256\u001b[0m, \u001b[38;5;34m256\u001b[0m, \u001b[38;5;34m64\u001b[0m)   │        \u001b[38;5;34m73,792\u001b[0m │\n",
       "│ (\u001b[38;5;33mConv2DTranspose\u001b[0m)               │                        │               │\n",
       "├─────────────────────────────────┼────────────────────────┼───────────────┤\n",
       "│ up_sampling2d_2 (\u001b[38;5;33mUpSampling2D\u001b[0m)  │ (\u001b[38;5;45mNone\u001b[0m, \u001b[38;5;34m512\u001b[0m, \u001b[38;5;34m512\u001b[0m, \u001b[38;5;34m64\u001b[0m)   │             \u001b[38;5;34m0\u001b[0m │\n",
       "├─────────────────────────────────┼────────────────────────┼───────────────┤\n",
       "│ conv2d_3 (\u001b[38;5;33mConv2D\u001b[0m)               │ (\u001b[38;5;45mNone\u001b[0m, \u001b[38;5;34m512\u001b[0m, \u001b[38;5;34m512\u001b[0m, \u001b[38;5;34m3\u001b[0m)    │         \u001b[38;5;34m1,731\u001b[0m │\n",
       "└─────────────────────────────────┴────────────────────────┴───────────────┘\n"
      ]
     },
     "metadata": {},
     "output_type": "display_data"
    },
    {
     "data": {
      "text/html": [
       "<pre style=\"white-space:pre;overflow-x:auto;line-height:normal;font-family:Menlo,'DejaVu Sans Mono',consolas,'Courier New',monospace\"><span style=\"font-weight: bold\"> Total params: </span><span style=\"color: #00af00; text-decoration-color: #00af00\">1,331,459</span> (5.08 MB)\n",
       "</pre>\n"
      ],
      "text/plain": [
       "\u001b[1m Total params: \u001b[0m\u001b[38;5;34m1,331,459\u001b[0m (5.08 MB)\n"
      ]
     },
     "metadata": {},
     "output_type": "display_data"
    },
    {
     "data": {
      "text/html": [
       "<pre style=\"white-space:pre;overflow-x:auto;line-height:normal;font-family:Menlo,'DejaVu Sans Mono',consolas,'Courier New',monospace\"><span style=\"font-weight: bold\"> Trainable params: </span><span style=\"color: #00af00; text-decoration-color: #00af00\">1,331,459</span> (5.08 MB)\n",
       "</pre>\n"
      ],
      "text/plain": [
       "\u001b[1m Trainable params: \u001b[0m\u001b[38;5;34m1,331,459\u001b[0m (5.08 MB)\n"
      ]
     },
     "metadata": {},
     "output_type": "display_data"
    },
    {
     "data": {
      "text/html": [
       "<pre style=\"white-space:pre;overflow-x:auto;line-height:normal;font-family:Menlo,'DejaVu Sans Mono',consolas,'Courier New',monospace\"><span style=\"font-weight: bold\"> Non-trainable params: </span><span style=\"color: #00af00; text-decoration-color: #00af00\">0</span> (0.00 B)\n",
       "</pre>\n"
      ],
      "text/plain": [
       "\u001b[1m Non-trainable params: \u001b[0m\u001b[38;5;34m0\u001b[0m (0.00 B)\n"
      ]
     },
     "metadata": {},
     "output_type": "display_data"
    }
   ],
   "source": [
    "# we are using adam because its efficient and has little memory requirement\n",
    "input_shape = (512, 512, 3)  # Adjust this based on your image size\n",
    "model = build_cnn_model(input_shape)\n",
    "model.compile('adam', loss='mean_squared_error', metrics=['accuracy'])\n",
    "model.summary()"
   ]
  },
  {
   "cell_type": "code",
   "execution_count": 10,
   "id": "c3e123a3",
   "metadata": {
    "execution": {
     "iopub.execute_input": "2024-10-20T03:15:58.144853Z",
     "iopub.status.busy": "2024-10-20T03:15:58.144488Z",
     "iopub.status.idle": "2024-10-20T03:29:37.685431Z",
     "shell.execute_reply": "2024-10-20T03:29:37.684292Z"
    },
    "papermill": {
     "duration": 819.549914,
     "end_time": "2024-10-20T03:29:37.687853",
     "exception": false,
     "start_time": "2024-10-20T03:15:58.137939",
     "status": "completed"
    },
    "tags": []
   },
   "outputs": [
    {
     "name": "stdout",
     "output_type": "stream",
     "text": [
      "Epoch 1/10\n"
     ]
    },
    {
     "name": "stderr",
     "output_type": "stream",
     "text": [
      "WARNING: All log messages before absl::InitializeLog() is called are written to STDERR\n",
      "I0000 00:00:1729394161.340870      63 service.cc:145] XLA service 0x7e703c0050a0 initialized for platform CUDA (this does not guarantee that XLA will be used). Devices:\n",
      "I0000 00:00:1729394161.340967      63 service.cc:153]   StreamExecutor device (0): Tesla P100-PCIE-16GB, Compute Capability 6.0\n"
     ]
    },
    {
     "name": "stdout",
     "output_type": "stream",
     "text": [
      "\u001b[1m  1/375\u001b[0m \u001b[37m━━━━━━━━━━━━━━━━━━━━\u001b[0m \u001b[1m1:48:04\u001b[0m 17s/step - accuracy: 0.2667 - loss: 0.1259"
     ]
    },
    {
     "name": "stderr",
     "output_type": "stream",
     "text": [
      "I0000 00:00:1729394175.368152      63 device_compiler.h:188] Compiled cluster using XLA!  This line is logged at most once for the lifetime of the process.\n"
     ]
    },
    {
     "name": "stdout",
     "output_type": "stream",
     "text": [
      "\u001b[1m375/375\u001b[0m \u001b[32m━━━━━━━━━━━━━━━━━━━━\u001b[0m\u001b[37m\u001b[0m \u001b[1m104s\u001b[0m 231ms/step - accuracy: 0.6524 - loss: 0.0809\n",
      "Epoch 2/10\n",
      "\u001b[1m375/375\u001b[0m \u001b[32m━━━━━━━━━━━━━━━━━━━━\u001b[0m\u001b[37m\u001b[0m \u001b[1m76s\u001b[0m 201ms/step - accuracy: 0.6706 - loss: 0.0803\n",
      "Epoch 3/10\n",
      "\u001b[1m375/375\u001b[0m \u001b[32m━━━━━━━━━━━━━━━━━━━━\u001b[0m\u001b[37m\u001b[0m \u001b[1m76s\u001b[0m 201ms/step - accuracy: 0.6710 - loss: 0.0803\n",
      "Epoch 4/10\n",
      "\u001b[1m375/375\u001b[0m \u001b[32m━━━━━━━━━━━━━━━━━━━━\u001b[0m\u001b[37m\u001b[0m \u001b[1m76s\u001b[0m 202ms/step - accuracy: 0.6710 - loss: 0.0799\n",
      "Epoch 5/10\n",
      "\u001b[1m375/375\u001b[0m \u001b[32m━━━━━━━━━━━━━━━━━━━━\u001b[0m\u001b[37m\u001b[0m \u001b[1m76s\u001b[0m 202ms/step - accuracy: 0.6710 - loss: 0.0799\n",
      "Epoch 6/10\n",
      "\u001b[1m375/375\u001b[0m \u001b[32m━━━━━━━━━━━━━━━━━━━━\u001b[0m\u001b[37m\u001b[0m \u001b[1m76s\u001b[0m 203ms/step - accuracy: 0.6710 - loss: 0.0798\n",
      "Epoch 7/10\n",
      "\u001b[1m375/375\u001b[0m \u001b[32m━━━━━━━━━━━━━━━━━━━━\u001b[0m\u001b[37m\u001b[0m \u001b[1m77s\u001b[0m 205ms/step - accuracy: 0.6710 - loss: 0.0798\n",
      "Epoch 8/10\n",
      "\u001b[1m375/375\u001b[0m \u001b[32m━━━━━━━━━━━━━━━━━━━━\u001b[0m\u001b[37m\u001b[0m \u001b[1m77s\u001b[0m 206ms/step - accuracy: 0.6710 - loss: 0.0798\n",
      "Epoch 9/10\n",
      "\u001b[1m375/375\u001b[0m \u001b[32m━━━━━━━━━━━━━━━━━━━━\u001b[0m\u001b[37m\u001b[0m \u001b[1m82s\u001b[0m 218ms/step - accuracy: 0.6710 - loss: 0.0798\n",
      "Epoch 10/10\n",
      "\u001b[1m375/375\u001b[0m \u001b[32m━━━━━━━━━━━━━━━━━━━━\u001b[0m\u001b[37m\u001b[0m \u001b[1m100s\u001b[0m 266ms/step - accuracy: 0.6710 - loss: 0.0798\n"
     ]
    }
   ],
   "source": [
    "# Training the data \n",
    "logdir = 'logs'\n",
    "tensorboard_callback = tf.keras.callbacks.TensorBoard(log_dir=logdir)\n",
    "\n",
    "hist = model.fit(train, epochs=10, batch_size=32)"
   ]
  },
  {
   "cell_type": "code",
   "execution_count": 11,
   "id": "986911e5",
   "metadata": {
    "execution": {
     "iopub.execute_input": "2024-10-20T03:29:38.375206Z",
     "iopub.status.busy": "2024-10-20T03:29:38.374245Z",
     "iopub.status.idle": "2024-10-20T03:29:38.378943Z",
     "shell.execute_reply": "2024-10-20T03:29:38.377973Z"
    },
    "papermill": {
     "duration": 0.354576,
     "end_time": "2024-10-20T03:29:38.381058",
     "exception": false,
     "start_time": "2024-10-20T03:29:38.026482",
     "status": "completed"
    },
    "tags": []
   },
   "outputs": [],
   "source": [
    "# Visulizations and Predictions\n"
   ]
  }
 ],
 "metadata": {
  "kaggle": {
   "accelerator": "gpu",
   "dataSources": [
    {
     "datasetId": 3687331,
     "sourceId": 6397427,
     "sourceType": "datasetVersion"
    },
    {
     "datasetId": 5868933,
     "sourceId": 9616799,
     "sourceType": "datasetVersion"
    }
   ],
   "dockerImageVersionId": 30786,
   "isGpuEnabled": true,
   "isInternetEnabled": false,
   "language": "python",
   "sourceType": "notebook"
  },
  "kernelspec": {
   "display_name": "Python 3",
   "language": "python",
   "name": "python3"
  },
  "language_info": {
   "codemirror_mode": {
    "name": "ipython",
    "version": 3
   },
   "file_extension": ".py",
   "mimetype": "text/x-python",
   "name": "python",
   "nbconvert_exporter": "python",
   "pygments_lexer": "ipython3",
   "version": "3.10.14"
  },
  "papermill": {
   "default_parameters": {},
   "duration": 1459.497503,
   "end_time": "2024-10-20T03:29:41.669639",
   "environment_variables": {},
   "exception": null,
   "input_path": "__notebook__.ipynb",
   "output_path": "__notebook__.ipynb",
   "parameters": {},
   "start_time": "2024-10-20T03:05:22.172136",
   "version": "2.6.0"
  }
 },
 "nbformat": 4,
 "nbformat_minor": 5
}
